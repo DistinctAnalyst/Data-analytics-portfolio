{
  "nbformat": 4,
  "nbformat_minor": 0,
  "metadata": {
    "colab": {
      "provenance": []
    },
    "kernelspec": {
      "name": "python3",
      "display_name": "Python 3"
    },
    "language_info": {
      "name": "python"
    }
  },
  "cells": [
    {
      "cell_type": "markdown",
      "metadata": {
        "id": "4tyzy-R6SQ6K"
      },
      "source": [
        "# Machine Learning: Final Project\n",
        "\n",
        "### Predicting Survival on the *Titanic*\n",
        "\n",
        "The final project is intended to simulate participation in a Kaggle competition. Your challenge is to build the most accurate model for predicting which passangers would survive the sinking of the *Titanic*. The ***Titanic Machine Learning Final Project.ipynb*** Colab notebook provides some guidance for tackling the project and suggests some things to think about as you get started. However, many of the model-building decisions are left up to you. \n",
        "**Note**: Use comments in your code and text blocks to explain your decisions and results.\n",
        "\n",
        "### Build a Pipeline for a Kaggle Competition!\n",
        "\n",
        "Kaggle was started in 2010 as a platform for machine learning competitions, which aim to identify how best to optimize supervised learning problems. These initiatives offer a two-way benefit. They help companies improve their internal algorithms and they provide prospective data professionals opportunities to prove their worth.\n",
        "\n",
        "Though Kaggle usually has a singular aim of maximizing a specific metric, the idea of finding the best possible algorithm and furthermore optimizing its hyperparameters is the daily task of a data scientist. Moreover, success in Kaggle can be great for a future resume (since your information is saved on their site).\n",
        "\n",
        "Obviously, the timeframe for this lesson is not realistic in terms of a typical Kaggle workflow, as competitors spend weeks or even months optimizing every piece of an algorithm they can. However, you can get started with preliminary testing and use these principles to enter your own Kaggle competitions in the future!"
      ]
    },
    {
      "cell_type": "markdown",
      "metadata": {
        "id": "cb9Fw_MKSRGj"
      },
      "source": [
        "# Step 1: Importing Libraries\n",
        "\n",
        "It is best practice to import all libraries and packages early in the process.\n",
        "\n",
        "You'll probably want to import Pandas plus some packages from scikit-learn.\n",
        "\n",
        "| Type | Path | Regression | Classification |\n",
        "| --- | --- | --- | --- |\n",
        "| **Linear Models** | `sklearn.linear_model` | `LinearRegression` | `LogisticRegression` |\n",
        "|  |  |`Ridge` | `RidgeClassifier` |\n",
        "|  |  |`Lasso` |  |\n",
        "| **K Nearest Neighbors** | `sklearn.neighbors` | `KNeighborsRegressor` | `KNeighborsClassifier` |\n",
        "| **Support Vector Machines** | `sklearn.svm.` | `SVR` | `SVC` |\n",
        "| **Naive Bayes** |  `sklearn.naive_Bayes` |  |`CategoricalNB` (Categorical) |\n",
        "|  |  |  | `MultinomialNB` (Sentiment Analysis) |\n",
        "| **Decision Trees** | `sklearn.tree` | `DecisionTreeRegressor` | `DecisionTreeClassifier` |\n",
        "| **Ensemble - Random Forests** | `sklearn.ensemble` | `RandomForestRegressor` | `RandomForestClassifier`\n",
        "| **Ensemble - Boosting** | `sklearn.ensemble` | `AdaBoostRegressor` | `AdaBoostClassifier` |\n",
        "|  | `sklearn.ensemble` | `GradientBoostRegressor` | `GradientBoostClassifier` |\n",
        "\n",
        "\n",
        "\n",
        "| Type | Path | Package |\n",
        "| --- | --- | --- |\n",
        "| Preprocessing | `sklearn.preprocessing` | `StandardScaler` |\n",
        "| |`sklearn.preprocessing` | `MinMaxScaler` |\n",
        "| |`sklearn.preprocessing` | `MaxAbsScaler` |\n",
        "| Model Selection - Splitting| `sklearn.model_selection` | `train_test_split` |\n",
        "| Model Selection - Grid Search | `sklearn.model_selection` | `GridSearchCV` |\n",
        "| Model Selection - Scoring | `sklearn.model_selection` | `cross_val_score` |\n",
        "| Metrics | `sklearn.metrics` | `confusion_matrix` |\n",
        "\n",
        "\n",
        "**Note**: Use comments in your code and text blocks to explain your decisions and results.\n",
        "\n",
        "\n"
      ]
    },
    {
      "cell_type": "code",
      "metadata": {
        "id": "j-q3XVj2acth"
      },
      "source": [
        "#Step 1\n",
        "import pandas as pd\n",
        "import numpy as np\n",
        "import sklearn\n",
        "from sklearn.model_selection import train_test_split\n",
        "from sklearn.impute import SimpleImputer\n",
        "from sklearn.preprocessing import StandardScaler\n",
        "from sklearn.pipeline import Pipeline\n",
        "from sklearn.model_selection import cross_val_score\n",
        "from sklearn import tree \n",
        "from sklearn.tree import DecisionTreeClassifier\n",
        "from sklearn.ensemble import RandomForestClassifier\n",
        "from sklearn.linear_model import LogisticRegression\n",
        "from pandas.core.common import pipe\n",
        "from sklearn.ensemble import RandomForestClassifier, GradientBoostingClassifier, AdaBoostClassifier\n",
        "from sklearn.neighbors import KNeighborsClassifier"
      ],
      "execution_count": 169,
      "outputs": []
    },
    {
      "cell_type": "markdown",
      "metadata": {
        "id": "fd1PYNlBaZUP"
      },
      "source": [
        "#Step 2:  Load the `Titanic.csv` Data\n",
        "You may want to refer back to one of your previous Colab notebooks to copy the Google Import code.\n",
        "\n",
        "**Note**: Use comments in your code and text blocks to explain your decisions and results."
      ]
    },
    {
      "cell_type": "code",
      "metadata": {
        "id": "f2YgjFdUbh6d",
        "colab": {
          "base_uri": "https://localhost:8080/",
          "height": 302
        },
        "outputId": "1d3a8391-8cb1-4ad3-f88a-5fd5ebbf88a4"
      },
      "source": [
        "#Step 2\n",
        "# 5 rows sample of titanic dataset\n",
        "titanic =pd.read_csv(\"/content/Titanic.csv\")\n",
        "titanic.head()"
      ],
      "execution_count": 170,
      "outputs": [
        {
          "output_type": "execute_result",
          "data": {
            "text/plain": [
              "   PassengerId  Survived  Pclass  \\\n",
              "0            1         0       3   \n",
              "1            2         1       1   \n",
              "2            3         1       3   \n",
              "3            4         1       1   \n",
              "4            5         0       3   \n",
              "\n",
              "                                                Name     Sex   Age  SibSp  \\\n",
              "0                            Braund, Mr. Owen Harris    male  22.0      1   \n",
              "1  Cumings, Mrs. John Bradley (Florence Briggs Th...  female  38.0      1   \n",
              "2                             Heikkinen, Miss. Laina  female  26.0      0   \n",
              "3       Futrelle, Mrs. Jacques Heath (Lily May Peel)  female  35.0      1   \n",
              "4                           Allen, Mr. William Henry    male  35.0      0   \n",
              "\n",
              "   Parch            Ticket     Fare Cabin Embarked  \n",
              "0      0         A/5 21171   7.2500   NaN        S  \n",
              "1      0          PC 17599  71.2833   C85        C  \n",
              "2      0  STON/O2. 3101282   7.9250   NaN        S  \n",
              "3      0            113803  53.1000  C123        S  \n",
              "4      0            373450   8.0500   NaN        S  "
            ],
            "text/html": [
              "\n",
              "  <div id=\"df-43d534f8-b449-4396-ad1b-ce440cd1dab0\">\n",
              "    <div class=\"colab-df-container\">\n",
              "      <div>\n",
              "<style scoped>\n",
              "    .dataframe tbody tr th:only-of-type {\n",
              "        vertical-align: middle;\n",
              "    }\n",
              "\n",
              "    .dataframe tbody tr th {\n",
              "        vertical-align: top;\n",
              "    }\n",
              "\n",
              "    .dataframe thead th {\n",
              "        text-align: right;\n",
              "    }\n",
              "</style>\n",
              "<table border=\"1\" class=\"dataframe\">\n",
              "  <thead>\n",
              "    <tr style=\"text-align: right;\">\n",
              "      <th></th>\n",
              "      <th>PassengerId</th>\n",
              "      <th>Survived</th>\n",
              "      <th>Pclass</th>\n",
              "      <th>Name</th>\n",
              "      <th>Sex</th>\n",
              "      <th>Age</th>\n",
              "      <th>SibSp</th>\n",
              "      <th>Parch</th>\n",
              "      <th>Ticket</th>\n",
              "      <th>Fare</th>\n",
              "      <th>Cabin</th>\n",
              "      <th>Embarked</th>\n",
              "    </tr>\n",
              "  </thead>\n",
              "  <tbody>\n",
              "    <tr>\n",
              "      <th>0</th>\n",
              "      <td>1</td>\n",
              "      <td>0</td>\n",
              "      <td>3</td>\n",
              "      <td>Braund, Mr. Owen Harris</td>\n",
              "      <td>male</td>\n",
              "      <td>22.0</td>\n",
              "      <td>1</td>\n",
              "      <td>0</td>\n",
              "      <td>A/5 21171</td>\n",
              "      <td>7.2500</td>\n",
              "      <td>NaN</td>\n",
              "      <td>S</td>\n",
              "    </tr>\n",
              "    <tr>\n",
              "      <th>1</th>\n",
              "      <td>2</td>\n",
              "      <td>1</td>\n",
              "      <td>1</td>\n",
              "      <td>Cumings, Mrs. John Bradley (Florence Briggs Th...</td>\n",
              "      <td>female</td>\n",
              "      <td>38.0</td>\n",
              "      <td>1</td>\n",
              "      <td>0</td>\n",
              "      <td>PC 17599</td>\n",
              "      <td>71.2833</td>\n",
              "      <td>C85</td>\n",
              "      <td>C</td>\n",
              "    </tr>\n",
              "    <tr>\n",
              "      <th>2</th>\n",
              "      <td>3</td>\n",
              "      <td>1</td>\n",
              "      <td>3</td>\n",
              "      <td>Heikkinen, Miss. Laina</td>\n",
              "      <td>female</td>\n",
              "      <td>26.0</td>\n",
              "      <td>0</td>\n",
              "      <td>0</td>\n",
              "      <td>STON/O2. 3101282</td>\n",
              "      <td>7.9250</td>\n",
              "      <td>NaN</td>\n",
              "      <td>S</td>\n",
              "    </tr>\n",
              "    <tr>\n",
              "      <th>3</th>\n",
              "      <td>4</td>\n",
              "      <td>1</td>\n",
              "      <td>1</td>\n",
              "      <td>Futrelle, Mrs. Jacques Heath (Lily May Peel)</td>\n",
              "      <td>female</td>\n",
              "      <td>35.0</td>\n",
              "      <td>1</td>\n",
              "      <td>0</td>\n",
              "      <td>113803</td>\n",
              "      <td>53.1000</td>\n",
              "      <td>C123</td>\n",
              "      <td>S</td>\n",
              "    </tr>\n",
              "    <tr>\n",
              "      <th>4</th>\n",
              "      <td>5</td>\n",
              "      <td>0</td>\n",
              "      <td>3</td>\n",
              "      <td>Allen, Mr. William Henry</td>\n",
              "      <td>male</td>\n",
              "      <td>35.0</td>\n",
              "      <td>0</td>\n",
              "      <td>0</td>\n",
              "      <td>373450</td>\n",
              "      <td>8.0500</td>\n",
              "      <td>NaN</td>\n",
              "      <td>S</td>\n",
              "    </tr>\n",
              "  </tbody>\n",
              "</table>\n",
              "</div>\n",
              "      <button class=\"colab-df-convert\" onclick=\"convertToInteractive('df-43d534f8-b449-4396-ad1b-ce440cd1dab0')\"\n",
              "              title=\"Convert this dataframe to an interactive table.\"\n",
              "              style=\"display:none;\">\n",
              "        \n",
              "  <svg xmlns=\"http://www.w3.org/2000/svg\" height=\"24px\"viewBox=\"0 0 24 24\"\n",
              "       width=\"24px\">\n",
              "    <path d=\"M0 0h24v24H0V0z\" fill=\"none\"/>\n",
              "    <path d=\"M18.56 5.44l.94 2.06.94-2.06 2.06-.94-2.06-.94-.94-2.06-.94 2.06-2.06.94zm-11 1L8.5 8.5l.94-2.06 2.06-.94-2.06-.94L8.5 2.5l-.94 2.06-2.06.94zm10 10l.94 2.06.94-2.06 2.06-.94-2.06-.94-.94-2.06-.94 2.06-2.06.94z\"/><path d=\"M17.41 7.96l-1.37-1.37c-.4-.4-.92-.59-1.43-.59-.52 0-1.04.2-1.43.59L10.3 9.45l-7.72 7.72c-.78.78-.78 2.05 0 2.83L4 21.41c.39.39.9.59 1.41.59.51 0 1.02-.2 1.41-.59l7.78-7.78 2.81-2.81c.8-.78.8-2.07 0-2.86zM5.41 20L4 18.59l7.72-7.72 1.47 1.35L5.41 20z\"/>\n",
              "  </svg>\n",
              "      </button>\n",
              "      \n",
              "  <style>\n",
              "    .colab-df-container {\n",
              "      display:flex;\n",
              "      flex-wrap:wrap;\n",
              "      gap: 12px;\n",
              "    }\n",
              "\n",
              "    .colab-df-convert {\n",
              "      background-color: #E8F0FE;\n",
              "      border: none;\n",
              "      border-radius: 50%;\n",
              "      cursor: pointer;\n",
              "      display: none;\n",
              "      fill: #1967D2;\n",
              "      height: 32px;\n",
              "      padding: 0 0 0 0;\n",
              "      width: 32px;\n",
              "    }\n",
              "\n",
              "    .colab-df-convert:hover {\n",
              "      background-color: #E2EBFA;\n",
              "      box-shadow: 0px 1px 2px rgba(60, 64, 67, 0.3), 0px 1px 3px 1px rgba(60, 64, 67, 0.15);\n",
              "      fill: #174EA6;\n",
              "    }\n",
              "\n",
              "    [theme=dark] .colab-df-convert {\n",
              "      background-color: #3B4455;\n",
              "      fill: #D2E3FC;\n",
              "    }\n",
              "\n",
              "    [theme=dark] .colab-df-convert:hover {\n",
              "      background-color: #434B5C;\n",
              "      box-shadow: 0px 1px 3px 1px rgba(0, 0, 0, 0.15);\n",
              "      filter: drop-shadow(0px 1px 2px rgba(0, 0, 0, 0.3));\n",
              "      fill: #FFFFFF;\n",
              "    }\n",
              "  </style>\n",
              "\n",
              "      <script>\n",
              "        const buttonEl =\n",
              "          document.querySelector('#df-43d534f8-b449-4396-ad1b-ce440cd1dab0 button.colab-df-convert');\n",
              "        buttonEl.style.display =\n",
              "          google.colab.kernel.accessAllowed ? 'block' : 'none';\n",
              "\n",
              "        async function convertToInteractive(key) {\n",
              "          const element = document.querySelector('#df-43d534f8-b449-4396-ad1b-ce440cd1dab0');\n",
              "          const dataTable =\n",
              "            await google.colab.kernel.invokeFunction('convertToInteractive',\n",
              "                                                     [key], {});\n",
              "          if (!dataTable) return;\n",
              "\n",
              "          const docLinkHtml = 'Like what you see? Visit the ' +\n",
              "            '<a target=\"_blank\" href=https://colab.research.google.com/notebooks/data_table.ipynb>data table notebook</a>'\n",
              "            + ' to learn more about interactive tables.';\n",
              "          element.innerHTML = '';\n",
              "          dataTable['output_type'] = 'display_data';\n",
              "          await google.colab.output.renderOutput(dataTable, element);\n",
              "          const docLink = document.createElement('div');\n",
              "          docLink.innerHTML = docLinkHtml;\n",
              "          element.appendChild(docLink);\n",
              "        }\n",
              "      </script>\n",
              "    </div>\n",
              "  </div>\n",
              "  "
            ]
          },
          "metadata": {},
          "execution_count": 170
        }
      ]
    },
    {
      "cell_type": "code",
      "source": [
        "titanic.shape\n",
        "# The dataset has 891 rows and 12 columns"
      ],
      "metadata": {
        "colab": {
          "base_uri": "https://localhost:8080/"
        },
        "id": "DPNf_In3YH7Q",
        "outputId": "84896b32-fff9-4a23-f428-fbdb08ea933a"
      },
      "execution_count": 171,
      "outputs": [
        {
          "output_type": "execute_result",
          "data": {
            "text/plain": [
              "(891, 12)"
            ]
          },
          "metadata": {},
          "execution_count": 171
        }
      ]
    },
    {
      "cell_type": "markdown",
      "metadata": {
        "id": "5Z0J_ay1SRPz"
      },
      "source": [
        "#Step 3: Split the Data\n",
        "\n",
        "The next step is to separate the target column from the feature matrix and perform a train/test split. \n",
        "\n",
        "*   What is the target and what are the features in the data?\n",
        "*   Are there any features that you want to drop?\n",
        "*   Is there any feature engineering that you need to do?\n",
        "\n",
        "**Note**: Use comments in your code and text blocks to explain your decisions and results.\n",
        "\n",
        " "
      ]
    },
    {
      "cell_type": "code",
      "metadata": {
        "id": "Tmaj7Zc-kBTL",
        "colab": {
          "base_uri": "https://localhost:8080/",
          "height": 206
        },
        "outputId": "0e863413-cad9-4d1b-ead2-2df5aa3ad198"
      },
      "source": [
        "#Step 3\n",
        "y =titanic[\"Survived\"]\n",
        "X = titanic.drop(columns=[\"PassengerId\",\"Survived\",\"Name\",\"Ticket\",\"Cabin\"], axis =1)\n",
        "X.head()"
      ],
      "execution_count": 172,
      "outputs": [
        {
          "output_type": "execute_result",
          "data": {
            "text/plain": [
              "   Pclass     Sex   Age  SibSp  Parch     Fare Embarked\n",
              "0       3    male  22.0      1      0   7.2500        S\n",
              "1       1  female  38.0      1      0  71.2833        C\n",
              "2       3  female  26.0      0      0   7.9250        S\n",
              "3       1  female  35.0      1      0  53.1000        S\n",
              "4       3    male  35.0      0      0   8.0500        S"
            ],
            "text/html": [
              "\n",
              "  <div id=\"df-221bb2d3-d5a7-4041-a0ca-0a478e4364ec\">\n",
              "    <div class=\"colab-df-container\">\n",
              "      <div>\n",
              "<style scoped>\n",
              "    .dataframe tbody tr th:only-of-type {\n",
              "        vertical-align: middle;\n",
              "    }\n",
              "\n",
              "    .dataframe tbody tr th {\n",
              "        vertical-align: top;\n",
              "    }\n",
              "\n",
              "    .dataframe thead th {\n",
              "        text-align: right;\n",
              "    }\n",
              "</style>\n",
              "<table border=\"1\" class=\"dataframe\">\n",
              "  <thead>\n",
              "    <tr style=\"text-align: right;\">\n",
              "      <th></th>\n",
              "      <th>Pclass</th>\n",
              "      <th>Sex</th>\n",
              "      <th>Age</th>\n",
              "      <th>SibSp</th>\n",
              "      <th>Parch</th>\n",
              "      <th>Fare</th>\n",
              "      <th>Embarked</th>\n",
              "    </tr>\n",
              "  </thead>\n",
              "  <tbody>\n",
              "    <tr>\n",
              "      <th>0</th>\n",
              "      <td>3</td>\n",
              "      <td>male</td>\n",
              "      <td>22.0</td>\n",
              "      <td>1</td>\n",
              "      <td>0</td>\n",
              "      <td>7.2500</td>\n",
              "      <td>S</td>\n",
              "    </tr>\n",
              "    <tr>\n",
              "      <th>1</th>\n",
              "      <td>1</td>\n",
              "      <td>female</td>\n",
              "      <td>38.0</td>\n",
              "      <td>1</td>\n",
              "      <td>0</td>\n",
              "      <td>71.2833</td>\n",
              "      <td>C</td>\n",
              "    </tr>\n",
              "    <tr>\n",
              "      <th>2</th>\n",
              "      <td>3</td>\n",
              "      <td>female</td>\n",
              "      <td>26.0</td>\n",
              "      <td>0</td>\n",
              "      <td>0</td>\n",
              "      <td>7.9250</td>\n",
              "      <td>S</td>\n",
              "    </tr>\n",
              "    <tr>\n",
              "      <th>3</th>\n",
              "      <td>1</td>\n",
              "      <td>female</td>\n",
              "      <td>35.0</td>\n",
              "      <td>1</td>\n",
              "      <td>0</td>\n",
              "      <td>53.1000</td>\n",
              "      <td>S</td>\n",
              "    </tr>\n",
              "    <tr>\n",
              "      <th>4</th>\n",
              "      <td>3</td>\n",
              "      <td>male</td>\n",
              "      <td>35.0</td>\n",
              "      <td>0</td>\n",
              "      <td>0</td>\n",
              "      <td>8.0500</td>\n",
              "      <td>S</td>\n",
              "    </tr>\n",
              "  </tbody>\n",
              "</table>\n",
              "</div>\n",
              "      <button class=\"colab-df-convert\" onclick=\"convertToInteractive('df-221bb2d3-d5a7-4041-a0ca-0a478e4364ec')\"\n",
              "              title=\"Convert this dataframe to an interactive table.\"\n",
              "              style=\"display:none;\">\n",
              "        \n",
              "  <svg xmlns=\"http://www.w3.org/2000/svg\" height=\"24px\"viewBox=\"0 0 24 24\"\n",
              "       width=\"24px\">\n",
              "    <path d=\"M0 0h24v24H0V0z\" fill=\"none\"/>\n",
              "    <path d=\"M18.56 5.44l.94 2.06.94-2.06 2.06-.94-2.06-.94-.94-2.06-.94 2.06-2.06.94zm-11 1L8.5 8.5l.94-2.06 2.06-.94-2.06-.94L8.5 2.5l-.94 2.06-2.06.94zm10 10l.94 2.06.94-2.06 2.06-.94-2.06-.94-.94-2.06-.94 2.06-2.06.94z\"/><path d=\"M17.41 7.96l-1.37-1.37c-.4-.4-.92-.59-1.43-.59-.52 0-1.04.2-1.43.59L10.3 9.45l-7.72 7.72c-.78.78-.78 2.05 0 2.83L4 21.41c.39.39.9.59 1.41.59.51 0 1.02-.2 1.41-.59l7.78-7.78 2.81-2.81c.8-.78.8-2.07 0-2.86zM5.41 20L4 18.59l7.72-7.72 1.47 1.35L5.41 20z\"/>\n",
              "  </svg>\n",
              "      </button>\n",
              "      \n",
              "  <style>\n",
              "    .colab-df-container {\n",
              "      display:flex;\n",
              "      flex-wrap:wrap;\n",
              "      gap: 12px;\n",
              "    }\n",
              "\n",
              "    .colab-df-convert {\n",
              "      background-color: #E8F0FE;\n",
              "      border: none;\n",
              "      border-radius: 50%;\n",
              "      cursor: pointer;\n",
              "      display: none;\n",
              "      fill: #1967D2;\n",
              "      height: 32px;\n",
              "      padding: 0 0 0 0;\n",
              "      width: 32px;\n",
              "    }\n",
              "\n",
              "    .colab-df-convert:hover {\n",
              "      background-color: #E2EBFA;\n",
              "      box-shadow: 0px 1px 2px rgba(60, 64, 67, 0.3), 0px 1px 3px 1px rgba(60, 64, 67, 0.15);\n",
              "      fill: #174EA6;\n",
              "    }\n",
              "\n",
              "    [theme=dark] .colab-df-convert {\n",
              "      background-color: #3B4455;\n",
              "      fill: #D2E3FC;\n",
              "    }\n",
              "\n",
              "    [theme=dark] .colab-df-convert:hover {\n",
              "      background-color: #434B5C;\n",
              "      box-shadow: 0px 1px 3px 1px rgba(0, 0, 0, 0.15);\n",
              "      filter: drop-shadow(0px 1px 2px rgba(0, 0, 0, 0.3));\n",
              "      fill: #FFFFFF;\n",
              "    }\n",
              "  </style>\n",
              "\n",
              "      <script>\n",
              "        const buttonEl =\n",
              "          document.querySelector('#df-221bb2d3-d5a7-4041-a0ca-0a478e4364ec button.colab-df-convert');\n",
              "        buttonEl.style.display =\n",
              "          google.colab.kernel.accessAllowed ? 'block' : 'none';\n",
              "\n",
              "        async function convertToInteractive(key) {\n",
              "          const element = document.querySelector('#df-221bb2d3-d5a7-4041-a0ca-0a478e4364ec');\n",
              "          const dataTable =\n",
              "            await google.colab.kernel.invokeFunction('convertToInteractive',\n",
              "                                                     [key], {});\n",
              "          if (!dataTable) return;\n",
              "\n",
              "          const docLinkHtml = 'Like what you see? Visit the ' +\n",
              "            '<a target=\"_blank\" href=https://colab.research.google.com/notebooks/data_table.ipynb>data table notebook</a>'\n",
              "            + ' to learn more about interactive tables.';\n",
              "          element.innerHTML = '';\n",
              "          dataTable['output_type'] = 'display_data';\n",
              "          await google.colab.output.renderOutput(dataTable, element);\n",
              "          const docLink = document.createElement('div');\n",
              "          docLink.innerHTML = docLinkHtml;\n",
              "          element.appendChild(docLink);\n",
              "        }\n",
              "      </script>\n",
              "    </div>\n",
              "  </div>\n",
              "  "
            ]
          },
          "metadata": {},
          "execution_count": 172
        }
      ]
    },
    {
      "cell_type": "code",
      "source": [
        "# The target is Survived\n",
        "# Other features are PassengerId,Pclass,Name,Sex,Age,SibSp,Parch,Ticket,Fare,Cabin and Embarked\n",
        "# Yes, i dropped passengerId,Name,Ticket,Cabin and Survived"
      ],
      "metadata": {
        "id": "mpo9HA0KEGRJ"
      },
      "execution_count": null,
      "outputs": []
    },
    {
      "cell_type": "code",
      "source": [
        "categ =[\"Embarked\",\"Sex\",\"Pclass\",\"SipSp\",\"Parch\"]\n"
      ],
      "metadata": {
        "id": "cWi8WJ2FYh-H"
      },
      "execution_count": 173,
      "outputs": []
    },
    {
      "cell_type": "code",
      "source": [
        "cat = pd.get_dummies([\"Sex\"])"
      ],
      "metadata": {
        "id": "peSaPvozjquo"
      },
      "execution_count": 174,
      "outputs": []
    },
    {
      "cell_type": "code",
      "source": [
        "X1=pd.concat([X,cat],axis=1)"
      ],
      "metadata": {
        "id": "j555mI5akb6o"
      },
      "execution_count": 175,
      "outputs": []
    },
    {
      "cell_type": "code",
      "source": [
        "X=X1.drop(columns =[\"Sex\"],axis=1)\n",
        "print(X.columns)"
      ],
      "metadata": {
        "colab": {
          "base_uri": "https://localhost:8080/"
        },
        "id": "96-5EY9Bm4ez",
        "outputId": "156a372b-431c-4dfa-fa28-b286cea81198"
      },
      "execution_count": 176,
      "outputs": [
        {
          "output_type": "stream",
          "name": "stdout",
          "text": [
            "Index(['Pclass', 'Age', 'SibSp', 'Parch', 'Fare', 'Embarked'], dtype='object')\n"
          ]
        }
      ]
    },
    {
      "cell_type": "code",
      "source": [
        "cat = pd.get_dummies([\"Embarked\"])"
      ],
      "metadata": {
        "id": "TnwTHnhvodFq"
      },
      "execution_count": 177,
      "outputs": []
    },
    {
      "cell_type": "code",
      "source": [
        "X1=pd.concat([X,cat],axis=1)"
      ],
      "metadata": {
        "id": "5SMqq4gTomZZ"
      },
      "execution_count": 178,
      "outputs": []
    },
    {
      "cell_type": "code",
      "source": [
        "X=X1.drop(columns =[\"Embarked\"],axis=1)\n",
        "print(X.columns)"
      ],
      "metadata": {
        "colab": {
          "base_uri": "https://localhost:8080/"
        },
        "id": "OWVtKkKoonEB",
        "outputId": "6a662aa6-26f2-456c-bda2-69f161d8010e"
      },
      "execution_count": 179,
      "outputs": [
        {
          "output_type": "stream",
          "name": "stdout",
          "text": [
            "Index(['Pclass', 'Age', 'SibSp', 'Parch', 'Fare'], dtype='object')\n"
          ]
        }
      ]
    },
    {
      "cell_type": "code",
      "source": [
        "cat = pd.get_dummies([\"Pclass\"])"
      ],
      "metadata": {
        "id": "zZnEJpg2pNRe"
      },
      "execution_count": 180,
      "outputs": []
    },
    {
      "cell_type": "code",
      "source": [
        "X1=pd.concat([X,cat],axis=1)"
      ],
      "metadata": {
        "id": "YUfWLLQxpN3I"
      },
      "execution_count": 181,
      "outputs": []
    },
    {
      "cell_type": "code",
      "source": [
        "X=X1.drop(columns =[\"Pclass\"],axis=1)\n",
        "X = X.rename(columns={1:\"1stclass\", 2:\"2ndclass\",3:\"3rdclass\"})\n",
        "print(X.columns)"
      ],
      "metadata": {
        "colab": {
          "base_uri": "https://localhost:8080/"
        },
        "id": "M_uLSfvrpOks",
        "outputId": "c9f39fc4-9484-48bf-93ca-44695001ba0d"
      },
      "execution_count": 182,
      "outputs": [
        {
          "output_type": "stream",
          "name": "stdout",
          "text": [
            "Index(['Age', 'SibSp', 'Parch', 'Fare'], dtype='object')\n"
          ]
        }
      ]
    },
    {
      "cell_type": "code",
      "source": [
        "cat = pd.get_dummies([\"SibSp\"])"
      ],
      "metadata": {
        "id": "-XAY-xvppQCd"
      },
      "execution_count": 183,
      "outputs": []
    },
    {
      "cell_type": "code",
      "source": [
        "X1=pd.concat([X,cat],axis=1)"
      ],
      "metadata": {
        "id": "oZNXqctdpPl5"
      },
      "execution_count": 184,
      "outputs": []
    },
    {
      "cell_type": "code",
      "source": [
        "X=X1.drop(columns =[\"SibSp\"],axis=1)\n",
        "print(X.columns)"
      ],
      "metadata": {
        "colab": {
          "base_uri": "https://localhost:8080/"
        },
        "id": "E_qKfy0Y2ldX",
        "outputId": "18c35d1f-cac1-4899-badc-4543fd7a6e00"
      },
      "execution_count": 185,
      "outputs": [
        {
          "output_type": "stream",
          "name": "stdout",
          "text": [
            "Index(['Age', 'Parch', 'Fare'], dtype='object')\n"
          ]
        }
      ]
    },
    {
      "cell_type": "code",
      "source": [
        "cat = pd.get_dummies([\"Parch\"])"
      ],
      "metadata": {
        "id": "QWS2Q-1Y3H71"
      },
      "execution_count": 186,
      "outputs": []
    },
    {
      "cell_type": "code",
      "source": [
        "X1=pd.concat([X,cat],axis=1)"
      ],
      "metadata": {
        "id": "eIls2RYW3Hlu"
      },
      "execution_count": 187,
      "outputs": []
    },
    {
      "cell_type": "code",
      "source": [
        "X=X1.drop(columns =[\"Parch\"],axis=1)\n",
        "print(X.columns)"
      ],
      "metadata": {
        "colab": {
          "base_uri": "https://localhost:8080/"
        },
        "id": "bEtFe_yA3HG7",
        "outputId": "f07169bb-7570-4307-d929-5e7b84c738ec"
      },
      "execution_count": 188,
      "outputs": [
        {
          "output_type": "stream",
          "name": "stdout",
          "text": [
            "Index(['Age', 'Fare'], dtype='object')\n"
          ]
        }
      ]
    },
    {
      "cell_type": "markdown",
      "metadata": {
        "id": "n0lndw6BuQUW"
      },
      "source": [
        "#Step 4: Clean and Preprocess the Data\n",
        "\n",
        "Use the code block below to clean and preprocess your data. Some considerations you may want to think about include the following:  \n",
        "*  Are there any missing values that need to be imputed?\n",
        "*  Do you need to encode any categorical features?\n",
        "*  Do you need to standardize any quantitative features?\n",
        " \n",
        "**Note**: Use comments in your code and text blocks to explain your decisions and results.\n",
        "\n",
        " "
      ]
    },
    {
      "cell_type": "code",
      "source": [
        "#Step 4\n",
        "#Search for missing values, then using simpleimputer to fix the problem and standardize.\n",
        "X.isna().sum\n",
        "X[\"Age\"].value_counts()"
      ],
      "metadata": {
        "id": "GTZ4KkS9um7t",
        "colab": {
          "base_uri": "https://localhost:8080/"
        },
        "outputId": "e0fe5c0b-3dff-4755-db7a-7386a431c70e"
      },
      "execution_count": 189,
      "outputs": [
        {
          "output_type": "execute_result",
          "data": {
            "text/plain": [
              "24.00    30\n",
              "22.00    27\n",
              "18.00    26\n",
              "19.00    25\n",
              "28.00    25\n",
              "         ..\n",
              "36.50     1\n",
              "55.50     1\n",
              "0.92      1\n",
              "23.50     1\n",
              "74.00     1\n",
              "Name: Age, Length: 88, dtype: int64"
            ]
          },
          "metadata": {},
          "execution_count": 189
        }
      ]
    },
    {
      "cell_type": "code",
      "source": [
        "X.dropna"
      ],
      "metadata": {
        "colab": {
          "base_uri": "https://localhost:8080/"
        },
        "id": "TWX01LHFS0Ma",
        "outputId": "85eda2de-01a9-46b8-b4aa-7201f0389090"
      },
      "execution_count": 190,
      "outputs": [
        {
          "output_type": "execute_result",
          "data": {
            "text/plain": [
              "<bound method DataFrame.dropna of       Age     Fare\n",
              "0    22.0   7.2500\n",
              "1    38.0  71.2833\n",
              "2    26.0   7.9250\n",
              "3    35.0  53.1000\n",
              "4    35.0   8.0500\n",
              "..    ...      ...\n",
              "886  27.0  13.0000\n",
              "887  19.0  30.0000\n",
              "888   NaN  23.4500\n",
              "889  26.0  30.0000\n",
              "890  32.0   7.7500\n",
              "\n",
              "[891 rows x 2 columns]>"
            ]
          },
          "metadata": {},
          "execution_count": 190
        }
      ]
    },
    {
      "cell_type": "code",
      "source": [
        "\n",
        "X_train, X_test, y_train, y_test = train_test_split(X, y,test_size=0.25, random_state=55)"
      ],
      "metadata": {
        "id": "GT8DcHf9gKSE"
      },
      "execution_count": 191,
      "outputs": []
    },
    {
      "cell_type": "code",
      "source": [
        "imp_mean = SimpleImputer(missing_values=np.nan, strategy='mean')"
      ],
      "metadata": {
        "id": "BzVGruMqjCi_"
      },
      "execution_count": 192,
      "outputs": []
    },
    {
      "cell_type": "markdown",
      "metadata": {
        "id": "HcqBl3tqSRXM"
      },
      "source": [
        "#Step 5: Build the Baseline Model\n",
        "\n",
        "Ideally, you will want to set a baseline algorithm to build off of. The most logical start is *linear regression* for *regression* and *logistic regression* for *classification*, as they are the basis for their respective algorithms.\n",
        "\n",
        "Once you have the baseline set, you will want to choose an algorithm that surpasses the baseline.\n",
        "\n",
        "Select a baseline model and fit it to your data.\n",
        "\n",
        "**Note**: Use comments in your code and text blocks to explain your decisions and results.\n",
        "\n"
      ]
    },
    {
      "cell_type": "code",
      "source": [
        "\n",
        "dtree = Pipeline([('imp_mean',SimpleImputer(missing_values=np.nan, strategy='mean')),\n",
        "                     ('scaler', StandardScaler()), \n",
        "                     ('model', DecisionTreeClassifier(random_state=55))])"
      ],
      "metadata": {
        "id": "Ghfi_Zxb85Wt"
      },
      "execution_count": 193,
      "outputs": []
    },
    {
      "cell_type": "markdown",
      "metadata": {
        "id": "Rkx6qXH3vAon"
      },
      "source": [
        "#Step 6: Evaluate the Baseline Model\n",
        "\n",
        "Use cross-validation to calculate the appropriate model evaluation metric. \n",
        "\n",
        "Is your model doing a good job fitting the data?  \n",
        "\n",
        "If you have ideas for how to improve your model fit, go back and make those changes to earlier steps.\n",
        "\n",
        "**Note**: Use comments in your code and text blocks to explain your decisions and results.\n"
      ]
    },
    {
      "cell_type": "code",
      "source": [
        "#Step6\n",
        "#Using Decision Tree Classifier, it is under fitting the data\n",
        "dtree.fit(X_train,y_train)"
      ],
      "metadata": {
        "colab": {
          "base_uri": "https://localhost:8080/"
        },
        "id": "T4DDBUFLA3gZ",
        "outputId": "98d7ace3-7072-43d0-9a66-00b91751f42b"
      },
      "execution_count": 194,
      "outputs": [
        {
          "output_type": "execute_result",
          "data": {
            "text/plain": [
              "Pipeline(steps=[('imp_mean', SimpleImputer()), ('scaler', StandardScaler()),\n",
              "                ('model', DecisionTreeClassifier(random_state=55))])"
            ]
          },
          "metadata": {},
          "execution_count": 194
        }
      ]
    },
    {
      "cell_type": "code",
      "source": [
        "\n",
        "Pipeline(steps=[('imp_mean', SimpleImputer()), ('scaler', StandardScaler()),\n",
        "                ('model', DecisionTreeClassifier(random_state=55))])"
      ],
      "metadata": {
        "id": "0eTjP2jeu6v7",
        "colab": {
          "base_uri": "https://localhost:8080/"
        },
        "outputId": "22382302-bdc7-4d84-9fb6-a2bd363e1e8e"
      },
      "execution_count": 195,
      "outputs": [
        {
          "output_type": "execute_result",
          "data": {
            "text/plain": [
              "Pipeline(steps=[('imp_mean', SimpleImputer()), ('scaler', StandardScaler()),\n",
              "                ('model', DecisionTreeClassifier(random_state=55))])"
            ]
          },
          "metadata": {},
          "execution_count": 195
        }
      ]
    },
    {
      "cell_type": "code",
      "source": [
        "scorescv = cross_val_score(dtree, X_train, y_train, cv=10)\n"
      ],
      "metadata": {
        "id": "xVTTpYcqBSnJ"
      },
      "execution_count": 196,
      "outputs": []
    },
    {
      "cell_type": "code",
      "source": [
        "print('DecisionTreeaccuracy',scorescv.mean())"
      ],
      "metadata": {
        "colab": {
          "base_uri": "https://localhost:8080/"
        },
        "id": "TwNJw73xB3B7",
        "outputId": "a197aa5f-815e-4ae5-e40b-99f4cdadc11c"
      },
      "execution_count": 197,
      "outputs": [
        {
          "output_type": "stream",
          "name": "stdout",
          "text": [
            "DecisionTreeaccuracy 0.6497286295793758\n"
          ]
        }
      ]
    },
    {
      "cell_type": "code",
      "source": [
        "print(\"Train\",dtree.score(X_train,y_train))"
      ],
      "metadata": {
        "colab": {
          "base_uri": "https://localhost:8080/"
        },
        "id": "OnbPlrWO8pEX",
        "outputId": "612d47e6-dd33-4537-e1f1-872562a1bf7a"
      },
      "execution_count": 198,
      "outputs": [
        {
          "output_type": "stream",
          "name": "stdout",
          "text": [
            "Train 0.9520958083832335\n"
          ]
        }
      ]
    },
    {
      "cell_type": "code",
      "source": [
        "print(\"Test\",dtree.score(X_test,y_test))"
      ],
      "metadata": {
        "colab": {
          "base_uri": "https://localhost:8080/"
        },
        "id": "IZCCVZCi9MBh",
        "outputId": "282c295c-a96c-43f6-bd92-7964d11c3ba1"
      },
      "execution_count": 199,
      "outputs": [
        {
          "output_type": "stream",
          "name": "stdout",
          "text": [
            "Test 0.5560538116591929\n"
          ]
        }
      ]
    },
    {
      "cell_type": "markdown",
      "metadata": {
        "id": "qDkRu0kWY6q6"
      },
      "source": [
        "# Step 7: Fit the Data to at Least One Other Model\n",
        "\n",
        "Select one (or more) other appropriate model and use it to model the data. Calculate the cross-validation accuracy of each model. \n",
        "\n",
        "**Note**: Use comments in your code and text blocks to explain your decisions and results."
      ]
    },
    {
      "cell_type": "code",
      "source": [
        "# Using Random Forest Classifier\n",
        "Random= Pipeline([('imp_mean',SimpleImputer(missing_values=np.nan, strategy='mean')),\n",
        "                     ('scaler', StandardScaler()), \n",
        "                     ('model', RandomForestClassifier())])"
      ],
      "metadata": {
        "id": "-MQRED6C_2a8"
      },
      "execution_count": 200,
      "outputs": []
    },
    {
      "cell_type": "code",
      "source": [
        "Random.fit(X_train,y_train)"
      ],
      "metadata": {
        "colab": {
          "base_uri": "https://localhost:8080/"
        },
        "id": "eJMVDiB2_2J0",
        "outputId": "d6ee80d6-80f4-41aa-d117-5fd53f2db58f"
      },
      "execution_count": 201,
      "outputs": [
        {
          "output_type": "execute_result",
          "data": {
            "text/plain": [
              "Pipeline(steps=[('imp_mean', SimpleImputer()), ('scaler', StandardScaler()),\n",
              "                ('model', RandomForestClassifier())])"
            ]
          },
          "metadata": {},
          "execution_count": 201
        }
      ]
    },
    {
      "cell_type": "code",
      "source": [
        "Pipeline(steps=[('imp_mean', SimpleImputer()), ('scaler', StandardScaler()),\n",
        "                ('model', RandomForestClassifier())])"
      ],
      "metadata": {
        "colab": {
          "base_uri": "https://localhost:8080/"
        },
        "id": "RnSFyfKq_15H",
        "outputId": "6414ab7c-9c1b-49ef-fdc8-f2e88976e8d4"
      },
      "execution_count": 202,
      "outputs": [
        {
          "output_type": "execute_result",
          "data": {
            "text/plain": [
              "Pipeline(steps=[('imp_mean', SimpleImputer()), ('scaler', StandardScaler()),\n",
              "                ('model', RandomForestClassifier())])"
            ]
          },
          "metadata": {},
          "execution_count": 202
        }
      ]
    },
    {
      "cell_type": "code",
      "source": [
        "scores = cross_val_score(dtree, X_train, y_train, cv=10)\n",
        "print('Random',scores.mean())"
      ],
      "metadata": {
        "colab": {
          "base_uri": "https://localhost:8080/"
        },
        "id": "nGrK4D1EARlv",
        "outputId": "d1517af5-05f2-410a-aecd-08e6295a4d68"
      },
      "execution_count": 204,
      "outputs": [
        {
          "output_type": "stream",
          "name": "stdout",
          "text": [
            "Random 0.6497286295793758\n"
          ]
        }
      ]
    },
    {
      "cell_type": "code",
      "source": [
        "print(\"Train\", Random.score(X_train,y_train))"
      ],
      "metadata": {
        "colab": {
          "base_uri": "https://localhost:8080/"
        },
        "id": "PURjf5Lz-LFo",
        "outputId": "b66e62e4-c773-44e8-9769-f5b13535b50f"
      },
      "execution_count": 205,
      "outputs": [
        {
          "output_type": "stream",
          "name": "stdout",
          "text": [
            "Train 0.9520958083832335\n"
          ]
        }
      ]
    },
    {
      "cell_type": "code",
      "source": [
        "print(\"Test\",Random.score(X_test,y_test))"
      ],
      "metadata": {
        "colab": {
          "base_uri": "https://localhost:8080/"
        },
        "id": "_ON-wfr2-L4O",
        "outputId": "af910a59-a110-4360-dca1-2edde2f1e819"
      },
      "execution_count": 165,
      "outputs": [
        {
          "output_type": "stream",
          "name": "stdout",
          "text": [
            "Test 0.5964125560538116\n"
          ]
        }
      ]
    },
    {
      "cell_type": "code",
      "source": [
        "# Using Gradientboost classifier\n",
        "GradientBoostingClassifier,\n",
        "gradboost = Pipeline([('imp_mean',SimpleImputer(missing_values=np.nan, strategy='mean')),\n",
        "                     ('scaler', StandardScaler()), \n",
        "                     ('model', GradientBoostingClassifier(random_state=55))])"
      ],
      "metadata": {
        "id": "LX7bx-RCPT3R"
      },
      "execution_count": 214,
      "outputs": []
    },
    {
      "cell_type": "code",
      "source": [
        "Pipeline(steps=[('imp_mean', SimpleImputer()), ('scaler', StandardScaler()),\n",
        "                ('model', GradientBoostingClassifier(random_state=55))])"
      ],
      "metadata": {
        "colab": {
          "base_uri": "https://localhost:8080/"
        },
        "id": "o7k9t4UeE3Iy",
        "outputId": "76346f38-8c80-4c20-90ac-0ed2dd233c2d"
      },
      "execution_count": 208,
      "outputs": [
        {
          "output_type": "execute_result",
          "data": {
            "text/plain": [
              "Pipeline(steps=[('imp_mean', SimpleImputer()), ('scaler', StandardScaler()),\n",
              "                ('model', GradientBoostingClassifier(random_state=55))])"
            ]
          },
          "metadata": {},
          "execution_count": 208
        }
      ]
    },
    {
      "cell_type": "code",
      "source": [
        "scores = cross_val_score(gradboost, X_train, y_train, cv=10)"
      ],
      "metadata": {
        "id": "2r5OaLMoE26-"
      },
      "execution_count": 209,
      "outputs": []
    },
    {
      "cell_type": "code",
      "source": [
        "print('GradientBoostClassifieraccuracy',scores.mean(),scores.std())"
      ],
      "metadata": {
        "colab": {
          "base_uri": "https://localhost:8080/"
        },
        "id": "K5IZ1n_uE2sb",
        "outputId": "0bd896ab-12ce-4170-9477-24a71aabac7f"
      },
      "execution_count": 215,
      "outputs": [
        {
          "output_type": "stream",
          "name": "stdout",
          "text": [
            "GradientBoostClassifieraccuracy 0.6990954319312528 0.04972339996306941\n"
          ]
        }
      ]
    },
    {
      "cell_type": "code",
      "source": [
        "gradboost = gradboost.fit(X_train,y_train)"
      ],
      "metadata": {
        "id": "eT4qO_kHR5rM"
      },
      "execution_count": 216,
      "outputs": []
    },
    {
      "cell_type": "code",
      "source": [
        "print('Train', gradboost.score(X_train,y_train))"
      ],
      "metadata": {
        "colab": {
          "base_uri": "https://localhost:8080/"
        },
        "id": "YzyfZMumA9sJ",
        "outputId": "c3a1bffe-cdd1-458e-edd1-8e85a810fc58"
      },
      "execution_count": 217,
      "outputs": [
        {
          "output_type": "stream",
          "name": "stdout",
          "text": [
            "Train 0.812874251497006\n"
          ]
        }
      ]
    },
    {
      "cell_type": "code",
      "source": [
        "print('Test', gradboost.score(X_test,y_test))"
      ],
      "metadata": {
        "colab": {
          "base_uri": "https://localhost:8080/"
        },
        "id": "2t0-seq_A9VS",
        "outputId": "9d33d74b-c71f-437c-f5c7-4776028c9406"
      },
      "execution_count": 218,
      "outputs": [
        {
          "output_type": "stream",
          "name": "stdout",
          "text": [
            "Test 0.600896860986547\n"
          ]
        }
      ]
    },
    {
      "cell_type": "markdown",
      "source": [
        "# New Section"
      ],
      "metadata": {
        "id": "JyziKJ5yVX__"
      }
    },
    {
      "cell_type": "markdown",
      "metadata": {
        "id": "ep2NIZeex_yj"
      },
      "source": [
        "# Step 8: Evaluate Your Best Model\n",
        "\n",
        "Evaluate your best model using the test set. \n",
        "\n",
        "*   Which model fit the data best?\n",
        "*   What was the best accuracy you were able to achieve?  \n",
        "\n",
        "**Note**: Use comments in your code and text blocks to explain your decisions and results."
      ]
    },
    {
      "cell_type": "code",
      "metadata": {
        "id": "2u20nsPshZb2"
      },
      "source": [
        "# Step 8\n",
        "# Out of the three algorithms,gradientboost fit the data best\n",
        "# I had 81% accuracy"
      ],
      "execution_count": null,
      "outputs": []
    },
    {
      "cell_type": "markdown",
      "source": [
        "#Step 9: Final Reporting\n",
        "\n",
        "Summarize your model building process:  \n",
        "* How did you identify the model target and features?  \n",
        "* What steps did you take to prepare the data for modeling?  \n",
        "* Which baseline model did you choose and why? How did you evaluate the model's performance?  \n",
        "* Which other model(s) did you choose and why? How did you evaluate the model's performace?  \n",
        "* What was the best model you developed? How well did the model perform on the test data?"
      ],
      "metadata": {
        "id": "JYcXAvwtyrnA"
      }
    },
    {
      "cell_type": "markdown",
      "source": [
        "#Step 9:\n",
        " 1 The target feature is survived,since we are building a model to know which passenger would survive the sinking of the titanic.\n",
        "\n",
        " 2 step 1: import relevant libraries\n",
        "step 2: Load the dataset\n",
        "step3: Split the data into the target and other features(X and y), find missing values\n",
        "step 4 Clean and process my data using simpleimputer and standarzing (StandardScaler())\n",
        "step 5: Building the model - Name the pipeline, fit the pipeline(X_ and y_train), Calculate the accuracy of the 3 models using cross_val_score for the train and test data, then calculate the mean and standard deviation.\n",
        "\n",
        "3. I chose Decion Tree Classifier because we are dealing with a categorical data, i evaluated the model performance using cross_val_score and mean $ SD values\n",
        "\n",
        "4. Random Forest and Gradientboost Classifiers, evaluuated as above.\n",
        "\n",
        "5. Gradientboost fit in best with 60% test result.\n",
        "\n",
        "\n",
        "\n"
      ],
      "metadata": {
        "id": "6x9-IRv6zZlO"
      }
    },
    {
      "cell_type": "markdown",
      "source": [],
      "metadata": {
        "id": "ikfBS4gJzUXR"
      }
    }
  ]
}